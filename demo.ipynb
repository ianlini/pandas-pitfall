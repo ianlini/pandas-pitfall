{
 "cells": [
  {
   "cell_type": "markdown",
   "metadata": {},
   "source": [
    "# Problem 1"
   ]
  },
  {
   "cell_type": "code",
   "execution_count": 1,
   "metadata": {},
   "outputs": [],
   "source": [
    "import numpy as np\n",
    "import pandas as pd"
   ]
  },
  {
   "cell_type": "markdown",
   "metadata": {},
   "source": [
    "## Guess the time of each line"
   ]
  },
  {
   "cell_type": "code",
   "execution_count": 2,
   "metadata": {
    "scrolled": true
   },
   "outputs": [
    {
     "name": "stdout",
     "output_type": "stream",
     "text": [
      "CPU times: user 1.31 s, sys: 404 ms, total: 1.72 s\n",
      "Wall time: 1.81 s\n",
      "CPU times: user 11.6 ms, sys: 0 ns, total: 11.6 ms\n",
      "Wall time: 11.3 ms\n",
      "CPU times: user 1.1 s, sys: 217 ms, total: 1.32 s\n",
      "Wall time: 1.34 s\n"
     ]
    }
   ],
   "source": [
    "rs = np.random.RandomState(1126)\n",
    "%time df = pd.DataFrame(rs.randint(200, size=(500000, 200)), dtype=np.float64)\n",
    "%time new_s = df.loc[:, 0].astype(np.int16)\n",
    "%time df.loc[:, 0] = new_s"
   ]
  },
  {
   "cell_type": "markdown",
   "metadata": {},
   "source": [
    "- The assignment is supprisingly slow! It's almost the same as creating a new `DataFrame` from scratch."
   ]
  },
  {
   "cell_type": "markdown",
   "metadata": {},
   "source": [
    "## Let's run again"
   ]
  },
  {
   "cell_type": "code",
   "execution_count": 3,
   "metadata": {},
   "outputs": [
    {
     "name": "stdout",
     "output_type": "stream",
     "text": [
      "CPU times: user 1.22 s, sys: 435 ms, total: 1.66 s\n",
      "Wall time: 1.68 s\n",
      "CPU times: user 5.26 ms, sys: 4.37 ms, total: 9.63 ms\n",
      "Wall time: 9.07 ms\n",
      "CPU times: user 1.09 s, sys: 226 ms, total: 1.32 s\n",
      "Wall time: 1.34 s\n"
     ]
    }
   ],
   "source": [
    "%time df = pd.DataFrame(rs.randint(200, size=(500000, 200)), dtype=np.float64)\n",
    "%time new_s = df.loc[:, 0].astype(np.int16)\n",
    "%time df.loc[:, 0] = new_s"
   ]
  },
  {
   "cell_type": "markdown",
   "metadata": {},
   "source": [
    "- the result is still similar\n",
    "\n",
    "## Tracing the issue\n",
    "\n",
    "- `pandas.core.internals`: 6000 lines of code in one file\n",
    "- the magical `BlockManager` in `pandas.core.internals` mainly controls how `pandas` deals with memory\n",
    "- `df._data` is the `BlockManager` of `df`\n",
    "- we can observe the behavior by watching `df._data.blocks`"
   ]
  },
  {
   "cell_type": "code",
   "execution_count": 4,
   "metadata": {
    "scrolled": true
   },
   "outputs": [
    {
     "data": {
      "text/plain": [
       "(FloatBlock: slice(0, 200, 1), 200 x 500000, dtype: float64,)"
      ]
     },
     "execution_count": 4,
     "metadata": {},
     "output_type": "execute_result"
    }
   ],
   "source": [
    "df = pd.DataFrame(rs.randint(200, size=(500000, 200)), dtype=np.float64)\n",
    "df._data.blocks"
   ]
  },
  {
   "cell_type": "code",
   "execution_count": 5,
   "metadata": {},
   "outputs": [
    {
     "data": {
      "text/plain": [
       "(FloatBlock: slice(1, 200, 1), 199 x 500000, dtype: float64,\n",
       " IntBlock: slice(0, 1, 1), 1 x 500000, dtype: int16)"
      ]
     },
     "execution_count": 5,
     "metadata": {},
     "output_type": "execute_result"
    }
   ],
   "source": [
    "df.loc[:, 0] = df.loc[:, 0].astype(np.int16)\n",
    "df._data.blocks"
   ]
  },
  {
   "cell_type": "markdown",
   "metadata": {},
   "source": [
    "- after the deletion, a new `IntBlock` is generated, and the original `FloatBlock` shrinks to size 199 x 500000\n",
    "\n",
    "## So why is this slow?\n",
    "\n",
    "After some profiling and tracing, we can find that:\n",
    "\n",
    "- each block maintains an `np.ndarray` (#cols x #rows)\n",
    "- `BlockManager` calls `np.delete` to delete one row in `FloatBlock`\n",
    "- when we assign the column, <span style=\"color:red\">98.46% of time</span> is used to do the deletion\n",
    "- `np.delete` copy the whole `np.ndarray` except the deleted row to a new `np.ndarray`"
   ]
  },
  {
   "cell_type": "markdown",
   "metadata": {},
   "source": [
    "## Why does pandas do this?\n",
    "\n",
    "- explained in the [pandas 2.0 design docs](https://pandas-dev.github.io/pandas2/internal-architecture.html#removal-of-blockmanager-new-dataframe-internals)\n",
    "    - ancient `pandas` history\n",
    "    - they wanted to rely on `numpy`, and contiguous memory access produces much better performance in `numpy`\n",
    "    - so they use `BlockManager` to maintain severy contiguous memory blocks for different types\n",
    "    - `pandas` developers want to replace `BlockManager` using native C/C++ code and design a new algorithm that won't have this kind of magical problems\n",
    "- currently\n",
    "    - `pandas` is designed for those fast operations\n",
    "    - **`pandas` is not designed to frequently change the sizes or types of the blocks**"
   ]
  },
  {
   "cell_type": "markdown",
   "metadata": {},
   "source": [
    "## Extended observation\n",
    "\n",
    "Based our previous observation, we can explore more about the magical behavior.\n",
    "\n",
    "\n",
    "Try your best to guess the result of the following code:"
   ]
  },
  {
   "cell_type": "code",
   "execution_count": 6,
   "metadata": {},
   "outputs": [
    {
     "data": {
      "text/plain": [
       "(FloatBlock: [1, 2, 4, 5, 6, 7, 8, 9, 10, 11, 12, 13, 14, 15, 16, 17, 18, 19, 20, 21, 22, 23, 24, 25, 26, 27, 28, 29, 30, 31, 32, 33, 34, 35, 36, 37, 38, 39, 40, 41, 42, 43, 44, 45, 46, 47, 48, 49, 50, 51, 52, 53, 54, 55, 56, 57, 58, 59, 60, 61, 62, 63, 64, 65, 66, 67, 68, 69, 70, 71, 72, 73, 74, 75, 76, 77, 78, 79, 80, 81, 82, 83, 84, 85, 86, 87, 88, 89, 90, 91, 92, 93, 94, 95, 96, 97, 98, 99, 100, 101, ...], 198 x 500000, dtype: float64,\n",
       " IntBlock: slice(0, 1, 1), 1 x 500000, dtype: int16,\n",
       " IntBlock: slice(3, 4, 1), 1 x 500000, dtype: int16)"
      ]
     },
     "execution_count": 6,
     "metadata": {},
     "output_type": "execute_result"
    }
   ],
   "source": [
    "df.loc[:, 3] = df.loc[:, 3].astype(np.int16)\n",
    "df._data.blocks"
   ]
  },
  {
   "cell_type": "markdown",
   "metadata": {},
   "source": [
    "- supprisingly, `pandas` doesn't merge the new `np.int16` column to the existing `IntBlock`"
   ]
  },
  {
   "cell_type": "code",
   "execution_count": 7,
   "metadata": {},
   "outputs": [
    {
     "data": {
      "text/plain": [
       "(FloatBlock: [1, 2, 4, 5, 6, 7, 8, 9, 10, 11, 12, 13, 14, 15, 16, 17, 18, 19, 20, 21, 22, 23, 24, 25, 26, 27, 28, 29, 30, 31, 32, 33, 34, 35, 36, 37, 38, 39, 40, 41, 42, 43, 44, 45, 46, 47, 48, 49, 50, 51, 52, 53, 54, 55, 56, 57, 58, 59, 60, 61, 62, 63, 64, 65, 66, 67, 68, 69, 70, 71, 72, 73, 74, 75, 76, 77, 78, 79, 80, 81, 82, 83, 84, 85, 86, 87, 88, 89, 90, 91, 92, 93, 94, 95, 96, 97, 98, 99, 100, 101, ...], 198 x 500000, dtype: float64,\n",
       " IntBlock: slice(0, 1, 1), 1 x 500000, dtype: int16,\n",
       " FloatBlock: slice(3, 4, 1), 1 x 500000, dtype: float64)"
      ]
     },
     "execution_count": 7,
     "metadata": {},
     "output_type": "execute_result"
    }
   ],
   "source": [
    "df.loc[:, 3] = df.loc[:, 3].astype(np.float64)\n",
    "df._data.blocks"
   ]
  },
  {
   "cell_type": "markdown",
   "metadata": {},
   "source": [
    "- after changing the type of a column, the next type changing of that column should be very fast because `pandas` won't do any heavy operation on an existing block\n",
    "\n",
    "# Other problems\n",
    "\n",
    "- What happens when you append a row to a `DataFrame`?\n",
    "- What happens when you add a column to a `DataFrame`?\n",
    "- How about 1-d arrays (`Series` and `Index`)?\n",
    "\n",
    "# Conclusion\n",
    "\n",
    "- `pandas` is not designed to frequently change the sizes or types of the blocks\n",
    "- try to avoid these kinds of operation by generating a lot of small `DataFrame` or `Series`, and concatenate them in the end\n",
    "    - this tip can also be applied to `numpy`"
   ]
  }
 ],
 "metadata": {
  "kernelspec": {
   "display_name": "Python 3",
   "language": "python",
   "name": "python3"
  },
  "language_info": {
   "codemirror_mode": {
    "name": "ipython",
    "version": 3
   },
   "file_extension": ".py",
   "mimetype": "text/x-python",
   "name": "python",
   "nbconvert_exporter": "python",
   "pygments_lexer": "ipython3",
   "version": "3.6.5"
  }
 },
 "nbformat": 4,
 "nbformat_minor": 2
}
